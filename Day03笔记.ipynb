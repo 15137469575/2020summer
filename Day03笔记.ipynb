{
 "cells": [
  {
   "cell_type": "markdown",
   "metadata": {},
   "source": [
    "# OpenCV 视频抓取"
   ]
  },
  {
   "cell_type": "markdown",
   "metadata": {},
   "source": [
    "1. 构建一个项目工程\n",
    "    1. 创建目录/文件结构\n",
    "    2. 工程组织文件（Makefile $\\to$ QMake）\n",
    "        - main.pro"
   ]
  },
  {
   "cell_type": "markdown",
   "metadata": {},
   "source": [
    "2. 创建Qt应用"
   ]
  },
  {
   "cell_type": "markdown",
   "metadata": {},
   "source": [
    "- 根据前两天所学，做好基本套路"
   ]
  },
  {
   "cell_type": "markdown",
   "metadata": {},
   "source": [
    "3. UI"
   ]
  },
  {
   "cell_type": "markdown",
   "metadata": {},
   "source": [
    "   - 利用ui工具设计简单的ui，并保存"
   ]
  },
  {
   "cell_type": "markdown",
   "metadata": {},
   "source": [
    "4. 多线程"
   ]
  },
  {
   "cell_type": "markdown",
   "metadata": {},
   "source": [
    "5. 视频采集\n",
    "    - 使用信号发送给窗体显示\n",
    "        1. 定义信号-> 发送：\n",
    "        2. 接受信号-> 显示"
   ]
  },
  {
   "cell_type": "markdown",
   "metadata": {},
   "source": [
    "-----"
   ]
  },
  {
   "cell_type": "markdown",
   "metadata": {},
   "source": [
    "- OpenCV的视频采集的相关的类\n",
    "    - 构造器\n",
    "    - 成员函数\n",
    "        - 使用规律：\n",
    "            - 打开摄像头\n",
    "            - 读取图像\n",
    "            "
   ]
  },
  {
   "cell_type": "markdown",
   "metadata": {},
   "source": [
    "6.代码展示"
   ]
  },
  {
   "cell_type": "markdown",
   "metadata": {},
   "source": [
    "- cvvideo.h"
   ]
  },
  {
   "cell_type": "markdown",
   "metadata": {},
   "source": [
    "```C++\n",
    "#ifndef CV_VIDEO_H\n",
    "#define CV_VIDEO_h\n",
    "#include <QtCore/QThread>\n",
    "#include <opencv2/opencv.hpp>\n",
    "\n",
    "class CVVideo:public QThread{\n",
    "    Q_OBJECT\n",
    "public:\n",
    "    CVVideo(QObject *parent=0);\n",
    "    ~CVVideo();\n",
    "\n",
    "protected:\n",
    "    virtual void run();\n",
    "\n",
    "private:\n",
    "    cv::VideoCapture *dev;\n",
    "    cv::CascadeClassifier *classifier;\n",
    "\n",
    "signals:\n",
    "    void sig_video(cv::Mat img);\n",
    "\n",
    "};\n",
    "\n",
    "#endif\n",
    "```"
   ]
  },
  {
   "cell_type": "markdown",
   "metadata": {},
   "source": [
    "- cvvideo.cpp"
   ]
  },
  {
   "cell_type": "markdown",
   "metadata": {},
   "source": [
    "```C++\n",
    "#include \"cvvideo.h\"\n",
    "#include <iostream>\n",
    "\n",
    "CVVideo::CVVideo(QObject *parent):\n",
    "    QThread(parent),\n",
    "    dev(new cv::VideoCapture(0, cv::CAP_DSHOW)){\n",
    "    classifier = new cv::CascadeClassifier(\"haarcascade_frontalface_alt2.xml\");\n",
    "\n",
    "}\n",
    "\n",
    "CVVideo::~CVVideo(){\n",
    "    dev->release();\n",
    "    delete classifier;\n",
    "    delete dev;\n",
    "}\n",
    "\n",
    "void CVVideo::run(){\n",
    "    while(true){\n",
    "        //视频采集\n",
    "        cv::Mat img;\n",
    "        dev->read(img);\n",
    "\n",
    "        // 图像如何处理\n",
    "        //侦测人脸\n",
    "        std::vector<cv::Rect> objs; // 用来存储识别的人脸\n",
    "        std::vector<int> rejectLeves; // 返回拒绝的level\n",
    "        std::vector<double> levelWeights; // level的权重\n",
    "\n",
    "        classifier->detectMultiScale(\n",
    "            img, //输入图像\n",
    "            objs,\n",
    "            rejectLeves,\n",
    "            levelWeights,\n",
    "            1.05, // 人脸搜索的模板\n",
    "            3, //最小邻域个数限制\n",
    "            1, //边缘检测（Canny）\n",
    "            cv::Size(),\n",
    "            cv::Size(),\n",
    "            true\n",
    "        );\n",
    "        // 标记人脸\n",
    "        if(!objs.empty()){\n",
    "            for(int i = 0; i < objs.size(); i ++){\n",
    "                if(levelWeights[i] >= 55.5){\n",
    "                    cv::rectangle(img, objs[i], cv::Scalar(0, 0, 255), 2);\n",
    "                }\n",
    "            }\n",
    "        }\n",
    "        //视频图像发送到窗体显示\n",
    "        emit sig_video(img);\n",
    "        QThread::usleep(100000);\n",
    "    }\n",
    "}\n",
    "```"
   ]
  },
  {
   "cell_type": "markdown",
   "metadata": {},
   "source": [
    "- cvdialog.h"
   ]
  },
  {
   "cell_type": "markdown",
   "metadata": {},
   "source": [
    "```C++\n",
    "#ifndef CV_VIDEO_H\n",
    "#define CV_VIDEO_h\n",
    "#include <QtCore/QThread>\n",
    "#include <opencv2/opencv.hpp>\n",
    "\n",
    "class CVVideo:public QThread{\n",
    "    Q_OBJECT\n",
    "public:\n",
    "    CVVideo(QObject *parent=0);\n",
    "    ~CVVideo();\n",
    "\n",
    "protected:\n",
    "    virtual void run();\n",
    "\n",
    "private:\n",
    "    cv::VideoCapture *dev;\n",
    "    cv::CascadeClassifier *classifier;\n",
    "\n",
    "signals:\n",
    "    void sig_video(cv::Mat img);\n",
    "\n",
    "};\n",
    "\n",
    "#endif\n",
    "\n",
    "```"
   ]
  },
  {
   "cell_type": "markdown",
   "metadata": {},
   "source": [
    "- cvdialog.cpp"
   ]
  },
  {
   "cell_type": "markdown",
   "metadata": {},
   "source": [
    "```C++\n",
    "#include \"cvdialog.h\"\n",
    "#include <iostream>\n",
    "CVDialog::CVDialog(QWidget *parent):\n",
    "    QDialog(parent),\n",
    "    ui(new Ui::video()),\n",
    "    video(new CVVideo()),\n",
    "    type(0){\n",
    "        ui->setupUi(this);\n",
    "        QObject::connect(video, SIGNAL(sig_video(cv::Mat)), this, SLOT(show_video(cv::Mat)));\n",
    "        video->start();\n",
    "}\n",
    "\n",
    "CVDialog::~CVDialog(){\n",
    "    video->terminate();\n",
    "    delete ui;\n",
    "    delete video;\n",
    "}\n",
    "\n",
    "void CVDialog::gray(){\n",
    "    type = 1;\n",
    "}\n",
    "\n",
    "void CVDialog::gauss(){\n",
    "    type = 2;\n",
    "}\n",
    "\n",
    "void CVDialog::show_video(cv::Mat img){\n",
    "    //添加图像处理\n",
    "    if(type == 0){\n",
    "        // 显示图像\n",
    "        // 1.QImage\n",
    "        QImage i_out(img.data, img.cols, img.rows, QImage::Format_BGR888);\n",
    "        // 2.QPixmap\n",
    "        QPixmap p_out = QPixmap::fromImage(i_out);\n",
    "        // 3.显示到标签框\n",
    "        ui->lbl_video->setPixmap(p_out);\n",
    "        // 4.根据标签框大小显示图像\n",
    "        ui->lbl_video->setScaledContents(true);\n",
    "    }\n",
    "    if(type == 1){\n",
    "        cv::cvtColor(img, img, cv::COLOR_BGR2GRAY);\n",
    "        // 1.QImage\n",
    "        QImage i_out(img.data, img.cols, img.rows, QImage::Format_Grayscale8);\n",
    "        // 2.QPixmap\n",
    "        QPixmap p_out = QPixmap::fromImage(i_out);\n",
    "        // 3.显示到标签框\n",
    "        ui->lbl_video->setPixmap(p_out);\n",
    "        // 4.根据标签框大小显示图像\n",
    "        ui->lbl_video->setScaledContents(true);\n",
    "    }\n",
    "    if(type == 2){\n",
    "        // 高斯变换\n",
    "        cv::GaussianBlur(img, img, cv::Size2i(17, 17), 3.0);\n",
    "        // cv::Sobel(img, img, -1, 1, 1, 3,128); sobel变换\n",
    "        // 1.QImage\n",
    "        QImage i_out(img.data, img.cols, img.rows, QImage::Format_BGR888);\n",
    "        // 2.QPixmap\n",
    "        QPixmap p_out = QPixmap::fromImage(i_out);\n",
    "        // 3.显示到标签框\n",
    "        ui->lbl_video->setPixmap(p_out);\n",
    "        // 4.根据标签框大小显示图像\n",
    "        ui->lbl_video->setScaledContents(true);\n",
    "    }\n",
    "}\n",
    "```"
   ]
  },
  {
   "cell_type": "markdown",
   "metadata": {},
   "source": [
    "- main.pro"
   ]
  },
  {
   "cell_type": "markdown",
   "metadata": {},
   "source": [
    "```C++\n",
    "# 控制编译器c++相关的编译选项\n",
    "QMAKE_CXXFLAGS += /source-charset:utf-8\n",
    "QMAKE_CXXFLAGS += /execution-charset:utf-8\n",
    "\n",
    "# 配置程序的类型：应用/共享库\n",
    "TEMPLATE = app\n",
    "\n",
    "# 基本配置\n",
    "CONFIG += debug\n",
    "CONFIG += console\n",
    "CONFIG += thread\n",
    "CONFIG += qt\n",
    "\n",
    "#opencv的链接的相关的库与头文件\n",
    "INCLUDEPATH +=\"E:\\OPENCV\\install\\include\"\n",
    "\n",
    "LIBS += -L\"E:\\OPENCV\\install\\x64\\vc16\\lib\"\n",
    "LIBS += -lopencv_core420d\n",
    "LIBS += -lopencv_videoio420d\n",
    "LIBS += -lopencv_imgcodecs420d\n",
    "LIBS += -lopencv_imgproc420d\n",
    "LIBS += -lopencv_objdetect420d\n",
    "\n",
    "# Qt的模块库的配置\n",
    "QT += core\n",
    "QT += gui\n",
    "QT += widgets\n",
    "\n",
    "# 工程代码文件\n",
    "SOURCES += main.cpp\n",
    "SOURCES += cvvideo.cpp\n",
    "SOURCES += cvdialog.cpp\n",
    "\n",
    "HEADERS += cvdialog.h\n",
    "HEADERS += cvvideo.h\n",
    "\n",
    "FORMS += video.ui\n",
    "\n",
    "# 输出的执行文件\n",
    "TARGET += main\n",
    "\n",
    "\n",
    "```"
   ]
  },
  {
   "cell_type": "markdown",
   "metadata": {},
   "source": [
    "# OpenCV图像特征处理"
   ]
  },
  {
   "cell_type": "markdown",
   "metadata": {},
   "source": [
    "- $\\texttt{dst} = \\frac{\\partial^{xorder+yorder} \\texttt{src}}{\\partial x^{xorder} \\partial y^{yorder}}$"
   ]
  },
  {
   "cell_type": "markdown",
   "metadata": {},
   "source": [
    "1. 灰度变换\n",
    "```C++\n",
    "     cv::cvtColor(img, img, cv::COLOR_BGR2GRAY);\n",
    "     QImage i_out(img.data, img.cols, img.rows, QImage::Format_Grayscale8);\n",
    "     // 2. QPixmap\n",
    "     QPixmap p_out = QPixmap::fromImage(i_out); \n",
    "     // 3. 显示到标签框\n",
    "     ui-&gt;lbl_video-&gt;setPixmap(p_out);\n",
    "     // 4. 根据标签框大小显示图像内容\n",
    "     ui-&gt;lbl_video-&gt;setScaledContents(true);\n",
    "```\n",
    "2. Sobel变换\n",
    "```C++\n",
    "        cv::Mat sobel_img; \n",
    "        cv::Sobel(img, sobel_img, -1, 1, 0, 3, 1, 128); \n",
    "        QImage i_out(sobel_img.data, sobel_img.cols, sobel_img.rows, QImage::Format_BGR888);\n",
    "        // 2. QPixmap \n",
    "        QPixmap p_out = QPixmap::fromImage(i_out); \n",
    "        // 3. 显示到标签框 \n",
    "        ui->lbl_video->setPixmap(p_out); \n",
    "        // 4. 根据标签框大小显示图像内容 \n",
    "        ui->lbl_video->setScaledContents(true);\n",
    "```\n",
    "3. 高斯变换\n",
    "```C++\n",
    "        cv::GaussianBlur(img, img, cv::Size2i(17, 17), 3.0);\n",
    "        // cv::Sobel(img, img, -1, 1, 1, 3,128); sobel变换\n",
    "        // 1.QImage\n",
    "        QImage i_out(img.data, img.cols, img.rows, QImage::Format_BGR888);\n",
    "        // 2.QPixmap\n",
    "        QPixmap p_out = QPixmap::fromImage(i_out);\n",
    "        // 3.显示到标签框\n",
    "        ui->lbl_video->setPixmap(p_out);\n",
    "        // 4.根据标签框大小显示图像\n",
    "        ui->lbl_video->setScaledContents(true);\n",
    "```\n",
    "4. Filter2D：卷积运算\n",
    "```C++\n",
    "     cv::Mat o_img;\n",
    "     cv::Mat kernel = (cv::Mat_<int>(3, 3) &lt;&lt; \n",
    "         -1,  0,  1, \n",
    "         -1,  0,  1, \n",
    "         -1,  0,  1);\n",
    "\n",
    "     cv::filter2D(img, o_img, -1, kernel, cv::Point2i(-1, -1), 0.0);\n",
    "     QImage i_out(o_img.data, o_img.cols, o_img.rows, QImage::Format_BGR888);\n",
    "     // 2. QPixmap\n",
    "     QPixmap p_out = QPixmap::fromImage(i_out); \n",
    "     // 3. 显示到标签框\n",
    "     ui-&gt;lbl_video-&gt;setPixmap(p_out);\n",
    "     // 4. 根据标签框大小显示图像内容\n",
    "     ui-&gt;lbl_video-&gt;setScaledContents(true);\n",
    "```"
   ]
  },
  {
   "cell_type": "markdown",
   "metadata": {},
   "source": [
    "# OpenCV人脸识别(可选)"
   ]
  },
  {
   "cell_type": "markdown",
   "metadata": {},
   "source": [
    "1. 人脸侦测\n",
    "2. 标识人脸"
   ]
  },
  {
   "cell_type": "markdown",
   "metadata": {},
   "source": [
    "- 了解下：\n",
    "    - 二位码识别"
   ]
  },
  {
   "cell_type": "markdown",
   "metadata": {},
   "source": [
    "- 代码作业：\n",
    "    - 完成一个抓取视频的程序（备份上交）\n",
    "    - 在上一个程序基础上，增加图像效果；\n",
    "    - 在第一个基础上，识别人脸，并标记；\n",
    "- 笔记整理\n",
    "    - 完成课堂笔记（说明，代码，执行效果的截图）"
   ]
  },
  {
   "cell_type": "markdown",
   "metadata": {},
   "source": [
    "---- "
   ]
  }
 ],
 "metadata": {
  "kernelspec": {
   "display_name": "Python 3",
   "language": "python",
   "name": "python3"
  },
  "language_info": {
   "codemirror_mode": {
    "name": "ipython",
    "version": 3
   },
   "file_extension": ".py",
   "mimetype": "text/x-python",
   "name": "python",
   "nbconvert_exporter": "python",
   "pygments_lexer": "ipython3",
   "version": "3.7.4"
  }
 },
 "nbformat": 4,
 "nbformat_minor": 4
}

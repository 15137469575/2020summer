{
 "cells": [
  {
   "cell_type": "markdown",
   "metadata": {},
   "source": [
    "# Qt应用开发的基本模式(面向对象)"
   ]
  },
  {
   "cell_type": "markdown",
   "metadata": {},
   "source": [
    "1. 继承QDailog"
   ]
  },
  {
   "cell_type": "markdown",
   "metadata": {},
   "source": [
    "- 新建GKDialog类继承QDailog"
   ]
  },
  {
   "cell_type": "markdown",
   "metadata": {},
   "source": [
    "``` C++\n",
    "#ifndef GK_DIALOG_H\n",
    "#define GK_DIALOG_H\n",
    "#include <QtWidgets/QDialog>\n",
    "\n",
    "class GKDialog: public QDialog{\n",
    "public:\n",
    "    GKDialog(QWidget *parent=0);\n",
    "    ~GKDialog();\n",
    "};\n",
    "#endif\n",
    "```"
   ]
  },
  {
   "cell_type": "markdown",
   "metadata": {},
   "source": [
    "- 对继承的类进行初始化"
   ]
  },
  {
   "cell_type": "markdown",
   "metadata": {},
   "source": [
    "```C++\n",
    "#include \"gkdialog.h\"\n",
    "#include <iostream>\n",
    "GKDialog::GKDialog(QWidget *parent):\n",
    "    QDialog(parent){  //构造初始化列表\n",
    "    std::cout << \"初始化\" << std::endl;\n",
    "}\n",
    "\n",
    "GKDialog::~GKDialog(){\n",
    "    std::cout << \"释放\" << std::endl;\n",
    "}\n",
    "```"
   ]
  },
  {
   "cell_type": "markdown",
   "metadata": {},
   "source": [
    "2. QApplication"
   ]
  },
  {
   "cell_type": "markdown",
   "metadata": {},
   "source": [
    "- 新建GKApp类继承QApplication"
   ]
  },
  {
   "cell_type": "markdown",
   "metadata": {},
   "source": [
    "```C ++\n",
    "#ifndef GK_APP_H\n",
    "#define GK_APP_H\n",
    "#include <QtWidgets/QApplication>\n",
    "#include \"gkdialog.h\"\n",
    "class GKApp : public QApplication{\n",
    "public:\n",
    "    GKApp(int argc, char **argv);\n",
    "    ~GKApp();\n",
    "private:\n",
    "    GKDialog *dlg;\n",
    "};\n",
    "#endif\n",
    "```"
   ]
  },
  {
   "cell_type": "markdown",
   "metadata": {},
   "source": [
    "- 对继承的类进行初始化"
   ]
  },
  {
   "cell_type": "markdown",
   "metadata": {},
   "source": [
    "``` C++\n",
    "#include \"gkapp.h\"\n",
    "#include <iostream>\n",
    "GKApp::GKApp(int argc, char **argv):\n",
    "    QApplication(argc, argv),\n",
    "    dlg(new GKDialog()){  // 构造初始化列表\n",
    "    // dlg = new GKDialog();\n",
    "    // dlg->resize(600, 400);\n",
    "    // dlg->move(200, 200);\n",
    "    dlg->show();\n",
    "    std::cout << \"应用初始化\" << std::endl;\n",
    "}\n",
    "\n",
    "GKApp::~GKApp(){\n",
    "    std::cout << \"应用释放\" << std::endl;\n",
    "    delete dlg;  //释放\n",
    "}\n",
    "\n",
    "```"
   ]
  },
  {
   "cell_type": "markdown",
   "metadata": {},
   "source": [
    "3. main.cpp"
   ]
  },
  {
   "cell_type": "markdown",
   "metadata": {},
   "source": [
    "```C++\n",
    "#include \"gkapp.h\"\n",
    "// #include \"gkdialog.h\"\n",
    "\n",
    "int  main(int argc, char **argv){\n",
    "    // 创建Qt应用\n",
    "    GKApp app(argc, argv);\n",
    "    // 创建对话框\n",
    "    // GKDialog dlg;\n",
    "    // dlg.resize(600, 400);\n",
    "    // dlg.move(200, 200);\n",
    "    // dlg.show();\n",
    "    // 消息循环\n",
    "    // 返回状态码\n",
    "    return app.exec();\n",
    "}\n",
    "\n",
    "```"
   ]
  },
  {
   "cell_type": "markdown",
   "metadata": {},
   "source": [
    "4. Makefile"
   ]
  },
  {
   "cell_type": "markdown",
   "metadata": {},
   "source": [
    "```bash\n",
    "INCLUDES = /I \"E:\\QT5.14\\Qt\\Qt-5.14.0\\include\"\n",
    "\n",
    "LIBS     = /LIBPATH:\"E:\\QT5.14\\Qt\\Qt-5.14.0\\lib\" \\\n",
    "           /DYNAMICBASE  \\\n",
    "\t         \"Qt5Widgets.lib\"  \\    // Qt5Widgetsd.lib  调试\n",
    "\t\t     \"Qt5Gui.lib\" \\       // Qt5Guid.lib\n",
    "\t\t     \"Qt5Core.lib\"     // Qt5Cored.lib\n",
    "CL_ARGS  = /EHsc \\\n",
    "           /MD \\   // /MDd  调试\n",
    "\t\t   /source-charset:utf-8 \\\n",
    "\t\t   /execution-charset:utf-8 \\\n",
    "\t\t   /nologo\n",
    "LINK_ARGS = /MACHINE:X64  /NOLOGO \n",
    "\n",
    "main:main.cpp gkapp.cpp gkdialog.cpp\n",
    "\t@cl /c $(CL_ARGS) /Fo:main.obj  $(INCLUDES) main.cpp\n",
    "\t@cl /c $(CL_ARGS) /Fo:app.obj  $(INCLUDES) gkapp.cpp\n",
    "\t@cl /c $(CL_ARGS) /Fo:dialog.obj  $(INCLUDES) gkdialog.cpp\n",
    "\t@link $(LINK_ARGS) $(LIBS) /OUT:main.exe  main.obj app.obj dialog.obj\n",
    "\n",
    "clean:\n",
    "\t@del *.exe *.obj *.exp 2>/Nul\n",
    "```"
   ]
  },
  {
   "cell_type": "markdown",
   "metadata": {},
   "source": [
    "# 设计UI（Qt Designer）"
   ]
  },
  {
   "cell_type": "markdown",
   "metadata": {},
   "source": [
    "## 代码实现"
   ]
  },
  {
   "cell_type": "markdown",
   "metadata": {},
   "source": [
    "1. 定义成员"
   ]
  },
  {
   "cell_type": "markdown",
   "metadata": {},
   "source": [
    "- 在gkdialog中添加QPushButton"
   ]
  },
  {
   "cell_type": "markdown",
   "metadata": {},
   "source": [
    "``` C++\n",
    "#ifndef GK_DIALOG_H\n",
    "#define GK_DIALOG_H\n",
    "#include <QtWidgets/QDialog>\n",
    "#include <QtWidgets/QPushButton>\n",
    "\n",
    "class GKDialog: public QDialog{\n",
    "public:\n",
    "    GKDialog(QWidget *parent=0);\n",
    "    ~GKDialog();\n",
    "private:\n",
    "    QPushButton *btn;\n",
    "};\n",
    "#endif\n",
    "\n",
    "```"
   ]
  },
  {
   "cell_type": "markdown",
   "metadata": {},
   "source": [
    "2. 创建类对象"
   ]
  },
  {
   "cell_type": "markdown",
   "metadata": {},
   "source": [
    "```C++\n",
    "#include \"gkdialog.h\"\n",
    "#include <iostream>\n",
    "GKDialog::GKDialog(QWidget *parent):\n",
    "    QDialog(parent){\n",
    "    std::cout << \"对话框初始化\" << std::endl;\n",
    "    btn = new QPushButton(\"确定\",this);\n",
    "    btn->move(200, 200);\n",
    "}\n",
    "\n",
    "GKDialog::~GKDialog(){\n",
    "    std::cout << \"释放\" << std::endl;\n",
    "    delete btn;\n",
    "}\n",
    "```"
   ]
  },
  {
   "cell_type": "markdown",
   "metadata": {},
   "source": [
    "3. 设置属性"
   ]
  },
  {
   "cell_type": "markdown",
   "metadata": {},
   "source": [
    "- 调用QPushButton的move函数设置按钮出现的位置"
   ]
  },
  {
   "cell_type": "markdown",
   "metadata": {},
   "source": [
    "## 工具实现"
   ]
  },
  {
   "cell_type": "markdown",
   "metadata": {},
   "source": [
    "-  Qt Designer（Qt设计大师） "
   ]
  },
  {
   "cell_type": "markdown",
   "metadata": {},
   "source": [
    "1. 步骤1：创建模板，保存为ui文件"
   ]
  },
  {
   "cell_type": "markdown",
   "metadata": {},
   "source": [
    "- 保存到需要的文件目录下"
   ]
  },
  {
   "cell_type": "markdown",
   "metadata": {},
   "source": [
    "2. 拖组件满足功能"
   ]
  },
  {
   "cell_type": "markdown",
   "metadata": {},
   "source": [
    "- frame，label，pushbutton等"
   ]
  },
  {
   "cell_type": "markdown",
   "metadata": {},
   "source": [
    "3. 外观的设计"
   ]
  },
  {
   "cell_type": "markdown",
   "metadata": {},
   "source": [
    "- 利用html语言设计ui的界面"
   ]
  },
  {
   "cell_type": "markdown",
   "metadata": {},
   "source": [
    "4. 命名规范"
   ]
  },
  {
   "cell_type": "markdown",
   "metadata": {},
   "source": [
    "- 将各组件以自己的命名风格命名"
   ]
  },
  {
   "cell_type": "markdown",
   "metadata": {},
   "source": [
    "5. 交互设计\n",
    "    1. 设计槽（slot）函数\n",
    "        - 在窗口右键点击，在改变信号/槽中添加与按钮对应的函数\n",
    "    2. 组件的信号与槽函数关联\n",
    "        - 1.在右边的列表中，打开信号/槽编辑器，进行设计，将信号与槽函数进行链接\n",
    "        - 2.按F4，进行链接，按ESC退出"
   ]
  },
  {
   "cell_type": "markdown",
   "metadata": {},
   "source": [
    "6.效果图"
   ]
  },
  {
   "cell_type": "markdown",
   "metadata": {},
   "source": [
    "![avatar](ui.png)"
   ]
  },
  {
   "cell_type": "markdown",
   "metadata": {},
   "source": [
    "# 使用UI"
   ]
  },
  {
   "cell_type": "markdown",
   "metadata": {},
   "source": [
    "- 条件是*.ui文件"
   ]
  },
  {
   "cell_type": "markdown",
   "metadata": {},
   "source": [
    "1. 编译ui文件为.h文件\n",
    "    - `uic [options] [uifile]`\n",
    "        1.  `-o 输出的文件` ： 建议文件输出为.h文件"
   ]
  },
  {
   "cell_type": "markdown",
   "metadata": {},
   "source": [
    "``` bash\n",
    "uic:gk.ui\n",
    "\t@uic -o gk.h  gk.ui\n",
    "```"
   ]
  },
  {
   "cell_type": "markdown",
   "metadata": {},
   "source": [
    "2. 创建ui对象"
   ]
  },
  {
   "cell_type": "markdown",
   "metadata": {},
   "source": [
    "- 在gkdialgg.h中引入gk.h,并创建对象"
   ]
  },
  {
   "cell_type": "markdown",
   "metadata": {},
   "source": [
    "```C++\n",
    "//防止代码过多重复，只添加重要部分\n",
    "#include \"gk.h\"\n",
    "\n",
    "class GKDialog: public QDialog{\n",
    "public:\n",
    "    GKDialog(QWidget *parent=0);\n",
    "    ~GKDialog();\n",
    "private:\n",
    "    // QPushButton *btn;  //设计的ui 所以代码实现的按钮不需要\n",
    "    Ui::gk  *ui;\n",
    "```"
   ]
  },
  {
   "cell_type": "markdown",
   "metadata": {},
   "source": [
    "3. 使用ui对象的setupUi绑定我们的对话框\n",
    "    - ui->setupUi(this);"
   ]
  },
  {
   "cell_type": "markdown",
   "metadata": {},
   "source": [
    "4. 实现ui设计中的槽函数\n",
    "    "
   ]
  },
  {
   "cell_type": "markdown",
   "metadata": {},
   "source": [
    "- 在gkdialog.h中添加槽函数"
   ]
  },
  {
   "cell_type": "markdown",
   "metadata": {},
   "source": [
    "```C++\n",
    "private slots:\n",
    "    void sobel();\n",
    "    void laplace();\n",
    "    void gauss();\n",
    "    void conv();\n",
    "```"
   ]
  },
  {
   "cell_type": "markdown",
   "metadata": {},
   "source": [
    "- 在gkdialog.cpp中编译槽函数"
   ]
  },
  {
   "cell_type": "markdown",
   "metadata": {},
   "source": [
    "```C++\n",
    "void GKDialog::sobel(){\n",
    "    std::cout << \"sobel\" << std::endl;\n",
    "}\n",
    "void GKDialog::laplace(){\n",
    "    std::cout << \"laplace\" << std::endl;\n",
    "}\n",
    "void GKDialog::gauss(){\n",
    "    std::cout << \"gauss\" << std::endl;\n",
    "}\n",
    "void GKDialog::conv(){\n",
    "    std::cout << \"conv\" << std::endl;\n",
    "}\n",
    "```"
   ]
  },
  {
   "cell_type": "markdown",
   "metadata": {},
   "source": [
    "5. 所有定义了槽函数的头文件需要编译成moc的cpp文件。\n",
    "    - cpp需要编译与链接\n",
    "    - 注意事项；定义槽函数或者是信号的类，需要添加一个宏，Q_OBJECT\n",
    "    \n",
    "    - ` moc [options] [header-file]`\n",
    "        - 选项： `-o 输出的文件moc_***.cpp`\n",
    "    - 注意，输出的moc_***.cpp文件，也要重新加入.obj文件的编译，并且和其他obj文件一起，编译链接为可执行文件"
   ]
  },
  {
   "cell_type": "markdown",
   "metadata": {},
   "source": [
    "6.效果图"
   ]
  },
  {
   "cell_type": "markdown",
   "metadata": {},
   "source": [
    "![avatar](ui_dialog.png)"
   ]
  },
  {
   "cell_type": "markdown",
   "metadata": {},
   "source": [
    "# Qt画图"
   ]
  },
  {
   "cell_type": "markdown",
   "metadata": {},
   "source": [
    "1. Qt应用\n",
    "    QApplication\n",
    "        | - QDialog\n",
    "            - 套路"
   ]
  },
  {
   "cell_type": "markdown",
   "metadata": {},
   "source": [
    "2. 绘制事件\n",
    "    - 完成绘图编程模式\n",
    "    \n",
    "    - QPainter\n",
    "    ```\n",
    "    #include <QtGui/QPainter>\n",
    "    \n",
    "    void THDialog::paintEvent(QPaintEvent *e){\n",
    "    QPainter painter(this);\n",
    "    fish->showFish(&painter);\n",
    "    \n",
    "    void THFish::showFish(QPainter *painter){\n",
    "    QColor color(255, 0, 0, 255);\n",
    "    QPen pen(color);\n",
    "    painter->setPen(pen);\n",
    "    painter->drawPie(pos_x, pos_y, 50, 50, mouse*16 + dir * 16, (360 - 2 * mouse)*16);\n",
    "    ```"
   ]
  },
  {
   "cell_type": "markdown",
   "metadata": {},
   "source": [
    "3. 键盘事件\n",
    "    - 通过键盘控制=图形的活动\n",
    "    - 加上virtual void keyPressEvent(QKeyEvent *e);\n",
    "    ```\n",
    "        virtual void keyPressEvent(QKeyEvent *e);\n",
    "    ```\n",
    "    - 再把相应的按键处理加上，饼子脸鱼就可以被我们控制着动起来了\n",
    "    ```\n",
    "    void THDialog::keyPressEvent(QKeyEvent *e){\n",
    "    if(e->modifiers() == Qt::ControlModifier && e->key() == Qt::Key_Up){\n",
    "        fish->changeDir(90);\n",
    "        fish->swim();\n",
    "    }\n",
    "     if(e->modifiers() == Qt::ControlModifier && e->key() == Qt::Key_Down){\n",
    "        fish->changeDir(270);\n",
    "        fish->swim();\n",
    "    }\n",
    "     if(e->modifiers() == Qt::ControlModifier && e->key() == Qt::Key_Left){\n",
    "        fish->changeDir(180);\n",
    "        fish->swim();\n",
    "    }\n",
    "     if(e->modifiers() == Qt::ControlModifier && e->key() == Qt::Key_Right){\n",
    "        fish->changeDir(0);\n",
    "        fish->swim();\n",
    "    }\n",
    "    this->repaint();\n",
    "    }\n",
    "    ```"
   ]
  },
  {
   "cell_type": "markdown",
   "metadata": {},
   "source": [
    "4.效果图"
   ]
  },
  {
   "cell_type": "markdown",
   "metadata": {},
   "source": [
    "![avatar](fish.png)"
   ]
  },
  {
   "cell_type": "markdown",
   "metadata": {},
   "source": [
    "# Qt多线程"
   ]
  },
  {
   "cell_type": "markdown",
   "metadata": {},
   "source": [
    "1. 使用线程完成数据同步处理\n",
    "    - 在fish.h里添加一个保护的函数，virtual void run();函数的实现即是在fish.cpp中用一个while的循环，是得我们之前设置的改变饼子脸鱼嘴张开角度的函数changeAngel()隔一段时间就运行一次。最后在DCDialog的初始化过程里填上fish->start();鱼的嘴就会在执行后动起来，但是，我们不按键它是不动的，没有达到预期效果，所以为了达到目的，我们还需做一下处理"
   ]
  },
  {
   "cell_type": "markdown",
   "metadata": {},
   "source": [
    "2. 通信机制：信号与槽\n",
    "    1. 定义信号\n",
    "    ```\n",
    "    signals:\n",
    "    void sign_open();\n",
    "    ```\n",
    "    2. 发送信号\n",
    "    ```        \n",
    "    emit sign_open();\n",
    "    ```\n",
    "    3. 绑定信号到目标\n",
    "    ```\n",
    "    QObject::connect(fish, SIGNAL(sign_open()), this, SLOT(repaint()));\n",
    "    ```\n",
    "    4. 目标需要有一个slot函数处理信息"
   ]
  },
  {
   "cell_type": "markdown",
   "metadata": {},
   "source": [
    "3. 绘制刷新实现动画"
   ]
  }
 ],
 "metadata": {
  "kernelspec": {
   "display_name": "Python 3",
   "language": "python",
   "name": "python3"
  },
  "language_info": {
   "codemirror_mode": {
    "name": "ipython",
    "version": 3
   },
   "file_extension": ".py",
   "mimetype": "text/x-python",
   "name": "python",
   "nbconvert_exporter": "python",
   "pygments_lexer": "ipython3",
   "version": "3.7.4"
  }
 },
 "nbformat": 4,
 "nbformat_minor": 4
}
